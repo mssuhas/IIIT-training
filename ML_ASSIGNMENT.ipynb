{
  "nbformat": 4,
  "nbformat_minor": 0,
  "metadata": {
    "kernelspec": {
      "display_name": "Python 3",
      "language": "python",
      "name": "python3"
    },
    "language_info": {
      "codemirror_mode": {
        "name": "ipython",
        "version": 3
      },
      "file_extension": ".py",
      "mimetype": "text/x-python",
      "name": "python",
      "nbconvert_exporter": "python",
      "pygments_lexer": "ipython3",
      "version": "3.6.10"
    },
    "colab": {
      "name": "ML ASSIGNMENT.ipynb",
      "provenance": [],
      "toc_visible": true,
      "include_colab_link": true
    },
    "accelerator": "GPU",
    "widgets": {
      "application/vnd.jupyter.widget-state+json": {
        "8a65f2b482e547a2b9f887d168eb1f5f": {
          "model_module": "@jupyter-widgets/controls",
          "model_name": "HBoxModel",
          "state": {
            "_view_name": "HBoxView",
            "_dom_classes": [],
            "_model_name": "HBoxModel",
            "_view_module": "@jupyter-widgets/controls",
            "_model_module_version": "1.5.0",
            "_view_count": null,
            "_view_module_version": "1.5.0",
            "box_style": "",
            "layout": "IPY_MODEL_6d5fedea8b2e448da4e3558927e105a5",
            "_model_module": "@jupyter-widgets/controls",
            "children": [
              "IPY_MODEL_2cc26423ebc24c8a8bf28cb4a0ab7786",
              "IPY_MODEL_ff922130f77542dfa3dfc1ea978e9f38"
            ]
          }
        },
        "6d5fedea8b2e448da4e3558927e105a5": {
          "model_module": "@jupyter-widgets/base",
          "model_name": "LayoutModel",
          "state": {
            "_view_name": "LayoutView",
            "grid_template_rows": null,
            "right": null,
            "justify_content": null,
            "_view_module": "@jupyter-widgets/base",
            "overflow": null,
            "_model_module_version": "1.2.0",
            "_view_count": null,
            "flex_flow": null,
            "width": null,
            "min_width": null,
            "border": null,
            "align_items": null,
            "bottom": null,
            "_model_module": "@jupyter-widgets/base",
            "top": null,
            "grid_column": null,
            "overflow_y": null,
            "overflow_x": null,
            "grid_auto_flow": null,
            "grid_area": null,
            "grid_template_columns": null,
            "flex": null,
            "_model_name": "LayoutModel",
            "justify_items": null,
            "grid_row": null,
            "max_height": null,
            "align_content": null,
            "visibility": null,
            "align_self": null,
            "height": null,
            "min_height": null,
            "padding": null,
            "grid_auto_rows": null,
            "grid_gap": null,
            "max_width": null,
            "order": null,
            "_view_module_version": "1.2.0",
            "grid_template_areas": null,
            "object_position": null,
            "object_fit": null,
            "grid_auto_columns": null,
            "margin": null,
            "display": null,
            "left": null
          }
        },
        "2cc26423ebc24c8a8bf28cb4a0ab7786": {
          "model_module": "@jupyter-widgets/controls",
          "model_name": "FloatProgressModel",
          "state": {
            "_view_name": "ProgressView",
            "style": "IPY_MODEL_b33be461d5b64f5cbde4bb105541abce",
            "_dom_classes": [],
            "description": "",
            "_model_name": "FloatProgressModel",
            "bar_style": "info",
            "max": 1,
            "_view_module": "@jupyter-widgets/controls",
            "_model_module_version": "1.5.0",
            "value": 1,
            "_view_count": null,
            "_view_module_version": "1.5.0",
            "orientation": "horizontal",
            "min": 0,
            "description_tooltip": null,
            "_model_module": "@jupyter-widgets/controls",
            "layout": "IPY_MODEL_da4cd89f60f9450a92a5171a052b7cba"
          }
        },
        "ff922130f77542dfa3dfc1ea978e9f38": {
          "model_module": "@jupyter-widgets/controls",
          "model_name": "HTMLModel",
          "state": {
            "_view_name": "HTMLView",
            "style": "IPY_MODEL_34bb5e73465148bd85eff2408e2a4f14",
            "_dom_classes": [],
            "description": "",
            "_model_name": "HTMLModel",
            "placeholder": "​",
            "_view_module": "@jupyter-widgets/controls",
            "_model_module_version": "1.5.0",
            "value": " 170500096/? [00:20&lt;00:00, 24813873.85it/s]",
            "_view_count": null,
            "_view_module_version": "1.5.0",
            "description_tooltip": null,
            "_model_module": "@jupyter-widgets/controls",
            "layout": "IPY_MODEL_9ab12e7c16614f0aa88209069dec77f6"
          }
        },
        "b33be461d5b64f5cbde4bb105541abce": {
          "model_module": "@jupyter-widgets/controls",
          "model_name": "ProgressStyleModel",
          "state": {
            "_view_name": "StyleView",
            "_model_name": "ProgressStyleModel",
            "description_width": "initial",
            "_view_module": "@jupyter-widgets/base",
            "_model_module_version": "1.5.0",
            "_view_count": null,
            "_view_module_version": "1.2.0",
            "bar_color": null,
            "_model_module": "@jupyter-widgets/controls"
          }
        },
        "da4cd89f60f9450a92a5171a052b7cba": {
          "model_module": "@jupyter-widgets/base",
          "model_name": "LayoutModel",
          "state": {
            "_view_name": "LayoutView",
            "grid_template_rows": null,
            "right": null,
            "justify_content": null,
            "_view_module": "@jupyter-widgets/base",
            "overflow": null,
            "_model_module_version": "1.2.0",
            "_view_count": null,
            "flex_flow": null,
            "width": null,
            "min_width": null,
            "border": null,
            "align_items": null,
            "bottom": null,
            "_model_module": "@jupyter-widgets/base",
            "top": null,
            "grid_column": null,
            "overflow_y": null,
            "overflow_x": null,
            "grid_auto_flow": null,
            "grid_area": null,
            "grid_template_columns": null,
            "flex": null,
            "_model_name": "LayoutModel",
            "justify_items": null,
            "grid_row": null,
            "max_height": null,
            "align_content": null,
            "visibility": null,
            "align_self": null,
            "height": null,
            "min_height": null,
            "padding": null,
            "grid_auto_rows": null,
            "grid_gap": null,
            "max_width": null,
            "order": null,
            "_view_module_version": "1.2.0",
            "grid_template_areas": null,
            "object_position": null,
            "object_fit": null,
            "grid_auto_columns": null,
            "margin": null,
            "display": null,
            "left": null
          }
        },
        "34bb5e73465148bd85eff2408e2a4f14": {
          "model_module": "@jupyter-widgets/controls",
          "model_name": "DescriptionStyleModel",
          "state": {
            "_view_name": "StyleView",
            "_model_name": "DescriptionStyleModel",
            "description_width": "",
            "_view_module": "@jupyter-widgets/base",
            "_model_module_version": "1.5.0",
            "_view_count": null,
            "_view_module_version": "1.2.0",
            "_model_module": "@jupyter-widgets/controls"
          }
        },
        "9ab12e7c16614f0aa88209069dec77f6": {
          "model_module": "@jupyter-widgets/base",
          "model_name": "LayoutModel",
          "state": {
            "_view_name": "LayoutView",
            "grid_template_rows": null,
            "right": null,
            "justify_content": null,
            "_view_module": "@jupyter-widgets/base",
            "overflow": null,
            "_model_module_version": "1.2.0",
            "_view_count": null,
            "flex_flow": null,
            "width": null,
            "min_width": null,
            "border": null,
            "align_items": null,
            "bottom": null,
            "_model_module": "@jupyter-widgets/base",
            "top": null,
            "grid_column": null,
            "overflow_y": null,
            "overflow_x": null,
            "grid_auto_flow": null,
            "grid_area": null,
            "grid_template_columns": null,
            "flex": null,
            "_model_name": "LayoutModel",
            "justify_items": null,
            "grid_row": null,
            "max_height": null,
            "align_content": null,
            "visibility": null,
            "align_self": null,
            "height": null,
            "min_height": null,
            "padding": null,
            "grid_auto_rows": null,
            "grid_gap": null,
            "max_width": null,
            "order": null,
            "_view_module_version": "1.2.0",
            "grid_template_areas": null,
            "object_position": null,
            "object_fit": null,
            "grid_auto_columns": null,
            "margin": null,
            "display": null,
            "left": null
          }
        }
      }
    }
  },
  "cells": [
    {
      "cell_type": "markdown",
      "metadata": {
        "id": "view-in-github",
        "colab_type": "text"
      },
      "source": [
        "<a href=\"https://colab.research.google.com/github/mssuhas/IIIT-training/blob/main/ML_ASSIGNMENT.ipynb\" target=\"_parent\"><img src=\"https://colab.research.google.com/assets/colab-badge.svg\" alt=\"Open In Colab\"/></a>"
      ]
    },
    {
      "cell_type": "markdown",
      "metadata": {
        "id": "kH-G0X3A4WcB"
      },
      "source": [
        "# Demonstration using PyTorch"
      ]
    },
    {
      "cell_type": "code",
      "metadata": {
        "id": "dIkbxeaF4WcC"
      },
      "source": [
        "import torch\n",
        "import torch.nn as nn\n",
        "import torch.nn.functional as F\n",
        "import torch.optim as optim\n",
        "from torch.utils.data import Dataset, DataLoader\n",
        "from torchvision.datasets import CIFAR10 # to download the CIFAR10 dataset\n",
        "import torchvision.transforms as transforms\n",
        "import tqdm\n",
        "import matplotlib.pyplot as plt\n",
        "import numpy as np\n",
        "from torchsummary import summary\n",
        "\n",
        "import torchvision"
      ],
      "execution_count": null,
      "outputs": []
    },
    {
      "cell_type": "code",
      "metadata": {
        "id": "FuYdwNIrJVBJ",
        "colab": {
          "base_uri": "https://localhost:8080/"
        },
        "outputId": "86eb07e9-340c-43f1-aa4a-661e31d15c70"
      },
      "source": [
        "from google.colab import drive\n",
        "drive.mount('/content/drive')"
      ],
      "execution_count": null,
      "outputs": [
        {
          "output_type": "stream",
          "text": [
            "Drive already mounted at /content/drive; to attempt to forcibly remount, call drive.mount(\"/content/drive\", force_remount=True).\n"
          ],
          "name": "stdout"
        }
      ]
    },
    {
      "cell_type": "markdown",
      "metadata": {
        "id": "F6rhmQ_a4WcG"
      },
      "source": [
        "## 1. Dataset\n",
        "Prepare the dataset for the training and validation of the model"
      ]
    },
    {
      "cell_type": "code",
      "metadata": {
        "id": "NBnKuQ_A4WcG"
      },
      "source": [
        "transform = transforms.Compose([transforms.ToTensor(), transforms.Normalize((0.5,0.5,0.5),(0.5,0.5, 0.5))])"
      ],
      "execution_count": null,
      "outputs": []
    },
    {
      "cell_type": "code",
      "metadata": {
        "id": "Z1UkWWGD4WcI",
        "colab": {
          "base_uri": "https://localhost:8080/",
          "height": 101,
          "referenced_widgets": [
            "8a65f2b482e547a2b9f887d168eb1f5f",
            "6d5fedea8b2e448da4e3558927e105a5",
            "2cc26423ebc24c8a8bf28cb4a0ab7786",
            "ff922130f77542dfa3dfc1ea978e9f38",
            "b33be461d5b64f5cbde4bb105541abce",
            "da4cd89f60f9450a92a5171a052b7cba",
            "34bb5e73465148bd85eff2408e2a4f14",
            "9ab12e7c16614f0aa88209069dec77f6"
          ]
        },
        "outputId": "8276f369-d74a-4fdc-fb5f-ca670582f00d"
      },
      "source": [
        "\n",
        "batch_size = 8\n",
        "\n",
        "trainset = CIFAR10(root=\"./dataset\", transform=transform, train=True,download=True)\n",
        "testset = CIFAR10(root=\"./dataset\", transform=transform, train=False, download=True)\n",
        "trainloader = DataLoader(dataset=trainset, batch_size=batch_size, shuffle=True, num_workers=2)\n",
        "testloader = DataLoader(dataset=testset, batch_size=batch_size, shuffle=False, num_workers=1)\n",
        "\n",
        "train_dataset_size = len(trainloader)\n",
        "test_dataset_size = len(testloader)\n",
        "\n",
        "classes = ('plane', 'car', 'bird', 'cat',\n",
        "           'deer', 'dog', 'frog', 'horse', 'ship', 'truck')"
      ],
      "execution_count": null,
      "outputs": [
        {
          "output_type": "stream",
          "text": [
            "Downloading https://www.cs.toronto.edu/~kriz/cifar-10-python.tar.gz to ./dataset/cifar-10-python.tar.gz\n"
          ],
          "name": "stdout"
        },
        {
          "output_type": "display_data",
          "data": {
            "application/vnd.jupyter.widget-view+json": {
              "model_id": "8a65f2b482e547a2b9f887d168eb1f5f",
              "version_minor": 0,
              "version_major": 2
            },
            "text/plain": [
              "HBox(children=(FloatProgress(value=1.0, bar_style='info', max=1.0), HTML(value='')))"
            ]
          },
          "metadata": {
            "tags": []
          }
        },
        {
          "output_type": "stream",
          "text": [
            "Extracting ./dataset/cifar-10-python.tar.gz to ./dataset\n",
            "Files already downloaded and verified\n"
          ],
          "name": "stdout"
        }
      ]
    },
    {
      "cell_type": "markdown",
      "metadata": {
        "id": "BE5NEIjd4WcL"
      },
      "source": [
        "## 2. Visualize the data"
      ]
    },
    {
      "cell_type": "code",
      "metadata": {
        "id": "Joq5plT-4WcL",
        "colab": {
          "base_uri": "https://localhost:8080/",
          "height": 112
        },
        "outputId": "604fa82d-560c-4c06-e3f6-f286a9c9c12b"
      },
      "source": [
        "# functions to show an image\n",
        "\n",
        "def imshow(img):\n",
        "    img = img / 2 + 0.5     # unnormalize\n",
        "    npimg = img.numpy()\n",
        "    plt.imshow(np.transpose(npimg, (1, 2, 0)))\n",
        "    plt.show()\n",
        "\n",
        "# get some random training images\n",
        "dataiter = iter(trainloader)\n",
        "images, labels = dataiter.next()\n",
        "\n",
        "# show images\n",
        "imshow(torchvision.utils.make_grid(images))\n",
        "# print labels\n",
        "print(' '.join('%5s' % classes[labels[j]] for j in range(batch_size)))"
      ],
      "execution_count": null,
      "outputs": [
        {
          "output_type": "display_data",
          "data": {
            "image/png": "[encoded data removed]",
            "text/plain": [
              "<Figure size 432x288 with 1 Axes>"
            ]
          },
          "metadata": {
            "tags": [],
            "needs_background": "light"
          }
        },
        {
          "output_type": "stream",
          "text": [
            "  cat  bird  deer  bird   dog  deer truck   cat\n"
          ],
          "name": "stdout"
        }
      ]
    },
    {
      "cell_type": "markdown",
      "metadata": {
        "id": "eTkDYwrF4WcN"
      },
      "source": [
        "## 3. Define the model"
      ]
    },
    {
      "cell_type": "code",
      "metadata": {
        "id": "sxMzgqwb4WcO"
      },
      "source": [
        "# defining nn model\n",
        "class Model(nn.Module):\n",
        "    def __init__(self):\n",
        "        super(Model, self).__init__()\n",
        "        \n",
        "        #define the layers\n",
        "        self.fc1 = nn.Linear(3*32*32,1024*4)\n",
        "        self.fc2 = nn.Linear(1024*4, 1024)\n",
        "        self.fc3 = nn.Linear(1024, 1024)\n",
        "        self.fc4 = nn.Linear(1024, 512)\n",
        "        self.fc5 = nn.Linear(512, 128)\n",
        "        self.fc6 = nn.Linear(128, 32)\n",
        "        self.fc7 = nn.Linear(32, 10) # --> no. of class\n",
        "        \n",
        "        self.relu = nn.ReLU(inplace=True)\n",
        "\n",
        "    def forward(self, x): # create the computation graph\n",
        "        x = self.fc1(x)\n",
        "        x = self.relu(x)\n",
        "        x = self.fc2(x)\n",
        "        x = self.relu(x)\n",
        "        x = self.fc3(x)\n",
        "        x = self.relu(x)\n",
        "        x = self.fc4(x) \n",
        "        x = self.relu(x)\n",
        "        x = self.fc5(x)\n",
        "        x = self.relu(x)\n",
        "        x = self.fc6(x)\n",
        "        x = self.relu(x)\n",
        "        x = self.fc7(x)\n",
        "        \n",
        "        return x"
      ],
      "execution_count": null,
      "outputs": []
    },
    {
      "cell_type": "code",
      "metadata": {
        "id": "LMAUWXIG4WcR"
      },
      "source": [
        "net = Model().cuda()"
      ],
      "execution_count": null,
      "outputs": []
    },
    {
      "cell_type": "code",
      "metadata": {
        "id": "X-N-VbHd4WcT",
        "colab": {
          "base_uri": "https://localhost:8080/"
        },
        "outputId": "dd1d2e8c-8949-428c-868d-300190052c84"
      },
      "source": [
        "summary(net, (1, 3*32*32))"
      ],
      "execution_count": null,
      "outputs": [
        {
          "output_type": "stream",
          "text": [
            "----------------------------------------------------------------\n",
            "        Layer (type)               Output Shape         Param #\n",
            "================================================================\n",
            "            Linear-1              [-1, 1, 4096]      12,587,008\n",
            "              ReLU-2              [-1, 1, 4096]               0\n",
            "            Linear-3              [-1, 1, 1024]       4,195,328\n",
            "              ReLU-4              [-1, 1, 1024]               0\n",
            "            Linear-5              [-1, 1, 1024]       1,049,600\n",
            "              ReLU-6              [-1, 1, 1024]               0\n",
            "            Linear-7               [-1, 1, 512]         524,800\n",
            "              ReLU-8               [-1, 1, 512]               0\n",
            "            Linear-9               [-1, 1, 128]          65,664\n",
            "             ReLU-10               [-1, 1, 128]               0\n",
            "           Linear-11                [-1, 1, 32]           4,128\n",
            "             ReLU-12                [-1, 1, 32]               0\n",
            "           Linear-13                [-1, 1, 10]             330\n",
            "================================================================\n",
            "Total params: 18,426,858\n",
            "Trainable params: 18,426,858\n",
            "Non-trainable params: 0\n",
            "----------------------------------------------------------------\n",
            "Input size (MB): 0.01\n",
            "Forward/backward pass size (MB): 0.10\n",
            "Params size (MB): 70.29\n",
            "Estimated Total Size (MB): 70.41\n",
            "----------------------------------------------------------------\n"
          ],
          "name": "stdout"
        }
      ]
    },
    {
      "cell_type": "markdown",
      "metadata": {
        "id": "KZUBNgIL4WcV"
      },
      "source": [
        "## 4. Define hyper-parameters and loss functions"
      ]
    },
    {
      "cell_type": "code",
      "metadata": {
        "id": "_6jpaIbi4WcW"
      },
      "source": [
        "optimizer = optim.SGD(net.parameters(),lr=0.001, momentum=0.9)\n",
        "criterion = nn.CrossEntropyLoss()\n",
        "\n",
        "epochs = 20"
      ],
      "execution_count": null,
      "outputs": []
    },
    {
      "cell_type": "markdown",
      "metadata": {
        "id": "brUdzlR14WcY"
      },
      "source": [
        "## 5. Train & Evaluate the model"
      ]
    },
    {
      "cell_type": "code",
      "metadata": {
        "id": "vv-XSg-44WcY"
      },
      "source": [
        "def train_validation_accuracy(train, val):\n",
        "    x=np.arange(epochs)\n",
        "    plt.figure(figsize=(10,10))\n",
        "    plt.title(\"Accuracy vs Epoch\")\n",
        "    plt.plot(x, train, label=\"Train Accuracy\")\n",
        "    plt.plot(x,val, label=\"Validation Accuracy\")\n",
        "    plt.legend()\n",
        "    plt.ylabel(\"Accuracy\")\n",
        "    plt.xlabel(\"Epoch\")\n",
        "    plt.show()\n",
        "    "
      ],
      "execution_count": null,
      "outputs": []
    },
    {
      "cell_type": "code",
      "metadata": {
        "id": "-2NBveSf4Wca",
        "colab": {
          "base_uri": "https://localhost:8080/"
        },
        "outputId": "3a5bfbe4-2137-46a8-aff0-275bb85788d7"
      },
      "source": [
        "net.zero_grad()\n",
        "\n",
        "accuracy_train = []\n",
        "accuracy_val = []\n",
        "\n",
        "for each_epoch in range(epochs):\n",
        "    print(\"\\nEpoch {}\".format(each_epoch+1))\n",
        "    print(\"-\"*20)\n",
        "    running_losses = 0\n",
        "    running_corrects = 0\n",
        "    \n",
        "    for data, target in trainloader:\n",
        "        optimizer.zero_grad()\n",
        "        d,t = data.view(batch_size,-1).cuda(), target.cuda()\n",
        "        output = net(d)\n",
        "        loss = criterion(output,t)\n",
        "        \n",
        "        _,preds = torch.max(output,1)\n",
        "        \n",
        "        running_losses += loss.data.item()*data.size(0)\n",
        "        running_corrects += torch.sum(preds == t.data)/float(data.size(0))\n",
        "        \n",
        "        \n",
        "        loss.backward()\n",
        "        optimizer.step()\n",
        "    \n",
        "    epoch_loss = running_losses / train_dataset_size\n",
        "    epoch_acc = running_corrects / train_dataset_size\n",
        "    print('{} Loss: {:.4f} Acc: {:.4f}'.format(\"TRAIN\", epoch_loss, epoch_acc))\n",
        "    \n",
        "    accuracy_train.append(epoch_acc)\n",
        "    \n",
        "    val_losses = 0.0\n",
        "    val_corrects = 0.0\n",
        "    with torch.no_grad():\n",
        "        for data, target in testloader:\n",
        "            d, t = data.view(data.size(0),-1).cuda(), target.cuda()\n",
        "            output = net(d)\n",
        "            loss = criterion(output, t)\n",
        "            \n",
        "            _, preds = torch.max(output, 1)\n",
        "            val_losses += loss.data.item()*data.size(0)\n",
        "            val_corrects += torch.sum(preds == t.data)/float(data.size(0))\n",
        "            \n",
        "        val_epoch_loss = val_losses / test_dataset_size\n",
        "        val_epoch_acc = val_corrects / test_dataset_size\n",
        "        print('{} Loss: {:.4f} Acc: {:.4f}'.format(\"VAL\", val_epoch_loss, val_epoch_acc))\n",
        "        \n",
        "        accuracy_val.append(val_epoch_acc)\n",
        "    \n",
        "print(\"Finished\")\n",
        "\n",
        "train_validation_accuracy(np.array(accuracy_train), np.array(accuracy_val))"
      ],
      "execution_count": null,
      "outputs": [
        {
          "output_type": "stream",
          "text": [
            "\n",
            "Epoch 1\n",
            "--------------------\n",
            "TRAIN Loss: 0.3982 Acc: 0.9836\n",
            "VAL Loss: 25.5298 Acc: 0.5615\n",
            "\n",
            "Epoch 2\n",
            "--------------------\n",
            "TRAIN Loss: 0.4084 Acc: 0.9829\n",
            "VAL Loss: 24.0523 Acc: 0.5680\n",
            "\n",
            "Epoch 3\n",
            "--------------------\n",
            "TRAIN Loss: 0.3254 Acc: 0.9868\n",
            "VAL Loss: 25.4132 Acc: 0.5697\n",
            "\n",
            "Epoch 4\n",
            "--------------------\n",
            "TRAIN Loss: 0.3322 Acc: 0.9866\n",
            "VAL Loss: 26.0533 Acc: 0.5677\n",
            "\n",
            "Epoch 5\n",
            "--------------------\n",
            "TRAIN Loss: 0.3371 Acc: 0.9860\n",
            "VAL Loss: 24.7729 Acc: 0.5700\n",
            "\n",
            "Epoch 6\n",
            "--------------------\n",
            "TRAIN Loss: 0.2488 Acc: 0.9898\n",
            "VAL Loss: 26.2416 Acc: 0.5720\n",
            "\n",
            "Epoch 7\n",
            "--------------------\n",
            "TRAIN Loss: 0.2310 Acc: 0.9908\n",
            "VAL Loss: 26.6060 Acc: 0.5713\n",
            "\n",
            "Epoch 8\n",
            "--------------------\n",
            "TRAIN Loss: 0.1907 Acc: 0.9931\n",
            "VAL Loss: 27.7956 Acc: 0.5726\n",
            "\n",
            "Epoch 9\n",
            "--------------------\n"
          ],
          "name": "stdout"
        }
      ]
    }
  ]
}