{
  "nbformat": 4,
  "nbformat_minor": 0,
  "metadata": {
    "colab": {
      "name": "IIIT training D2 example1.ipynb",
      "provenance": [],
      "authorship_tag": "ABX9TyMPPwJzulO48ORB06KnJPTn",
      "include_colab_link": true
    },
    "kernelspec": {
      "name": "python3",
      "display_name": "Python 3"
    }
  },
  "cells": [
    {
      "cell_type": "markdown",
      "metadata": {
        "id": "view-in-github",
        "colab_type": "text"
      },
      "source": [
        "<a href=\"https://colab.research.google.com/github/mssuhas/IIIT-training/blob/main/IIIT_training_D2_example1.ipynb\" target=\"_parent\"><img src=\"https://colab.research.google.com/assets/colab-badge.svg\" alt=\"Open In Colab\"/></a>"
      ]
    },
    {
      "cell_type": "code",
      "metadata": {
        "id": "yaVAM1QR9Ism"
      },
      "source": [
        "#Importing data handling libraries\n",
        "\n",
        "import pandas as pd\n",
        "import numpy as np"
      ],
      "execution_count": null,
      "outputs": []
    },
    {
      "cell_type": "code",
      "metadata": {
        "id": "i2u0IFccAQbz"
      },
      "source": [
        "path=(\"/content/iris.csv\")"
      ],
      "execution_count": null,
      "outputs": []
    },
    {
      "cell_type": "code",
      "metadata": {
        "id": "ctgXW2ojAfAN",
        "outputId": "0b55f776-0592-43df-b408-b22a15185b03",
        "colab": {
          "base_uri": "https://localhost:8080/"
        }
      },
      "source": [
        "iris_dataset_frame = pd.read_csv(path, header=None)\n",
        "print(\"Iris dataset dataframe looks like \\n\", iris_dataset_frame)"
      ],
      "execution_count": null,
      "outputs": [
        {
          "output_type": "stream",
          "text": [
            "Iris dataset dataframe looks like \n",
            "        0    1    2    3               4\n",
            "0    5.1  3.5  1.4  0.2     Iris-setosa\n",
            "1    4.9  3.0  1.4  0.2     Iris-setosa\n",
            "2    4.7  3.2  1.3  0.2     Iris-setosa\n",
            "3    4.6  3.1  1.5  0.2     Iris-setosa\n",
            "4    5.0  3.6  1.4  0.2     Iris-setosa\n",
            "..   ...  ...  ...  ...             ...\n",
            "145  6.7  3.0  5.2  2.3  Iris-virginica\n",
            "146  6.3  2.5  5.0  1.9  Iris-virginica\n",
            "147  6.5  3.0  5.2  2.0  Iris-virginica\n",
            "148  6.2  3.4  5.4  2.3  Iris-virginica\n",
            "149  5.9  3.0  5.1  1.8  Iris-virginica\n",
            "\n",
            "[150 rows x 5 columns]\n"
          ],
          "name": "stdout"
        }
      ]
    },
    {
      "cell_type": "code",
      "metadata": {
        "id": "5IU7h0OIAnH3",
        "outputId": "44351748-3f2b-4a00-f6e3-6fbfe27f6ca8",
        "colab": {
          "base_uri": "https://localhost:8080/"
        }
      },
      "source": [
        "#Transforming the dataframe into numpy matrices\n",
        "\n",
        "iris_dataset = iris_dataset_frame.to_numpy()\n",
        "print(\"Iris Dataset: \\n\", iris_dataset, \"\\n\")\n",
        "print(\"np.shape(iris_dataset): \", iris_dataset.shape, \"\\n\")\n"
      ],
      "execution_count": null,
      "outputs": [
        {
          "output_type": "stream",
          "text": [
            "Iris Dataset: \n",
            " [[5.1 3.5 1.4 0.2 'Iris-setosa']\n",
            " [4.9 3.0 1.4 0.2 'Iris-setosa']\n",
            " [4.7 3.2 1.3 0.2 'Iris-setosa']\n",
            " [4.6 3.1 1.5 0.2 'Iris-setosa']\n",
            " [5.0 3.6 1.4 0.2 'Iris-setosa']\n",
            " [5.4 3.9 1.7 0.4 'Iris-setosa']\n",
            " [4.6 3.4 1.4 0.3 'Iris-setosa']\n",
            " [5.0 3.4 1.5 0.2 'Iris-setosa']\n",
            " [4.4 2.9 1.4 0.2 'Iris-setosa']\n",
            " [4.9 3.1 1.5 0.1 'Iris-setosa']\n",
            " [5.4 3.7 1.5 0.2 'Iris-setosa']\n",
            " [4.8 3.4 1.6 0.2 'Iris-setosa']\n",
            " [4.8 3.0 1.4 0.1 'Iris-setosa']\n",
            " [4.3 3.0 1.1 0.1 'Iris-setosa']\n",
            " [5.8 4.0 1.2 0.2 'Iris-setosa']\n",
            " [5.7 4.4 1.5 0.4 'Iris-setosa']\n",
            " [5.4 3.9 1.3 0.4 'Iris-setosa']\n",
            " [5.1 3.5 1.4 0.3 'Iris-setosa']\n",
            " [5.7 3.8 1.7 0.3 'Iris-setosa']\n",
            " [5.1 3.8 1.5 0.3 'Iris-setosa']\n",
            " [5.4 3.4 1.7 0.2 'Iris-setosa']\n",
            " [5.1 3.7 1.5 0.4 'Iris-setosa']\n",
            " [4.6 3.6 1.0 0.2 'Iris-setosa']\n",
            " [5.1 3.3 1.7 0.5 'Iris-setosa']\n",
            " [4.8 3.4 1.9 0.2 'Iris-setosa']\n",
            " [5.0 3.0 1.6 0.2 'Iris-setosa']\n",
            " [5.0 3.4 1.6 0.4 'Iris-setosa']\n",
            " [5.2 3.5 1.5 0.2 'Iris-setosa']\n",
            " [5.2 3.4 1.4 0.2 'Iris-setosa']\n",
            " [4.7 3.2 1.6 0.2 'Iris-setosa']\n",
            " [4.8 3.1 1.6 0.2 'Iris-setosa']\n",
            " [5.4 3.4 1.5 0.4 'Iris-setosa']\n",
            " [5.2 4.1 1.5 0.1 'Iris-setosa']\n",
            " [5.5 4.2 1.4 0.2 'Iris-setosa']\n",
            " [4.9 3.1 1.5 0.1 'Iris-setosa']\n",
            " [5.0 3.2 1.2 0.2 'Iris-setosa']\n",
            " [5.5 3.5 1.3 0.2 'Iris-setosa']\n",
            " [4.9 3.1 1.5 0.1 'Iris-setosa']\n",
            " [4.4 3.0 1.3 0.2 'Iris-setosa']\n",
            " [5.1 3.4 1.5 0.2 'Iris-setosa']\n",
            " [5.0 3.5 1.3 0.3 'Iris-setosa']\n",
            " [4.5 2.3 1.3 0.3 'Iris-setosa']\n",
            " [4.4 3.2 1.3 0.2 'Iris-setosa']\n",
            " [5.0 3.5 1.6 0.6 'Iris-setosa']\n",
            " [5.1 3.8 1.9 0.4 'Iris-setosa']\n",
            " [4.8 3.0 1.4 0.3 'Iris-setosa']\n",
            " [5.1 3.8 1.6 0.2 'Iris-setosa']\n",
            " [4.6 3.2 1.4 0.2 'Iris-setosa']\n",
            " [5.3 3.7 1.5 0.2 'Iris-setosa']\n",
            " [5.0 3.3 1.4 0.2 'Iris-setosa']\n",
            " [7.0 3.2 4.7 1.4 'Iris-versicolor']\n",
            " [6.4 3.2 4.5 1.5 'Iris-versicolor']\n",
            " [6.9 3.1 4.9 1.5 'Iris-versicolor']\n",
            " [5.5 2.3 4.0 1.3 'Iris-versicolor']\n",
            " [6.5 2.8 4.6 1.5 'Iris-versicolor']\n",
            " [5.7 2.8 4.5 1.3 'Iris-versicolor']\n",
            " [6.3 3.3 4.7 1.6 'Iris-versicolor']\n",
            " [4.9 2.4 3.3 1.0 'Iris-versicolor']\n",
            " [6.6 2.9 4.6 1.3 'Iris-versicolor']\n",
            " [5.2 2.7 3.9 1.4 'Iris-versicolor']\n",
            " [5.0 2.0 3.5 1.0 'Iris-versicolor']\n",
            " [5.9 3.0 4.2 1.5 'Iris-versicolor']\n",
            " [6.0 2.2 4.0 1.0 'Iris-versicolor']\n",
            " [6.1 2.9 4.7 1.4 'Iris-versicolor']\n",
            " [5.6 2.9 3.6 1.3 'Iris-versicolor']\n",
            " [6.7 3.1 4.4 1.4 'Iris-versicolor']\n",
            " [5.6 3.0 4.5 1.5 'Iris-versicolor']\n",
            " [5.8 2.7 4.1 1.0 'Iris-versicolor']\n",
            " [6.2 2.2 4.5 1.5 'Iris-versicolor']\n",
            " [5.6 2.5 3.9 1.1 'Iris-versicolor']\n",
            " [5.9 3.2 4.8 1.8 'Iris-versicolor']\n",
            " [6.1 2.8 4.0 1.3 'Iris-versicolor']\n",
            " [6.3 2.5 4.9 1.5 'Iris-versicolor']\n",
            " [6.1 2.8 4.7 1.2 'Iris-versicolor']\n",
            " [6.4 2.9 4.3 1.3 'Iris-versicolor']\n",
            " [6.6 3.0 4.4 1.4 'Iris-versicolor']\n",
            " [6.8 2.8 4.8 1.4 'Iris-versicolor']\n",
            " [6.7 3.0 5.0 1.7 'Iris-versicolor']\n",
            " [6.0 2.9 4.5 1.5 'Iris-versicolor']\n",
            " [5.7 2.6 3.5 1.0 'Iris-versicolor']\n",
            " [5.5 2.4 3.8 1.1 'Iris-versicolor']\n",
            " [5.5 2.4 3.7 1.0 'Iris-versicolor']\n",
            " [5.8 2.7 3.9 1.2 'Iris-versicolor']\n",
            " [6.0 2.7 5.1 1.6 'Iris-versicolor']\n",
            " [5.4 3.0 4.5 1.5 'Iris-versicolor']\n",
            " [6.0 3.4 4.5 1.6 'Iris-versicolor']\n",
            " [6.7 3.1 4.7 1.5 'Iris-versicolor']\n",
            " [6.3 2.3 4.4 1.3 'Iris-versicolor']\n",
            " [5.6 3.0 4.1 1.3 'Iris-versicolor']\n",
            " [5.5 2.5 4.0 1.3 'Iris-versicolor']\n",
            " [5.5 2.6 4.4 1.2 'Iris-versicolor']\n",
            " [6.1 3.0 4.6 1.4 'Iris-versicolor']\n",
            " [5.8 2.6 4.0 1.2 'Iris-versicolor']\n",
            " [5.0 2.3 3.3 1.0 'Iris-versicolor']\n",
            " [5.6 2.7 4.2 1.3 'Iris-versicolor']\n",
            " [5.7 3.0 4.2 1.2 'Iris-versicolor']\n",
            " [5.7 2.9 4.2 1.3 'Iris-versicolor']\n",
            " [6.2 2.9 4.3 1.3 'Iris-versicolor']\n",
            " [5.1 2.5 3.0 1.1 'Iris-versicolor']\n",
            " [5.7 2.8 4.1 1.3 'Iris-versicolor']\n",
            " [6.3 3.3 6.0 2.5 'Iris-virginica']\n",
            " [5.8 2.7 5.1 1.9 'Iris-virginica']\n",
            " [7.1 3.0 5.9 2.1 'Iris-virginica']\n",
            " [6.3 2.9 5.6 1.8 'Iris-virginica']\n",
            " [6.5 3.0 5.8 2.2 'Iris-virginica']\n",
            " [7.6 3.0 6.6 2.1 'Iris-virginica']\n",
            " [4.9 2.5 4.5 1.7 'Iris-virginica']\n",
            " [7.3 2.9 6.3 1.8 'Iris-virginica']\n",
            " [6.7 2.5 5.8 1.8 'Iris-virginica']\n",
            " [7.2 3.6 6.1 2.5 'Iris-virginica']\n",
            " [6.5 3.2 5.1 2.0 'Iris-virginica']\n",
            " [6.4 2.7 5.3 1.9 'Iris-virginica']\n",
            " [6.8 3.0 5.5 2.1 'Iris-virginica']\n",
            " [5.7 2.5 5.0 2.0 'Iris-virginica']\n",
            " [5.8 2.8 5.1 2.4 'Iris-virginica']\n",
            " [6.4 3.2 5.3 2.3 'Iris-virginica']\n",
            " [6.5 3.0 5.5 1.8 'Iris-virginica']\n",
            " [7.7 3.8 6.7 2.2 'Iris-virginica']\n",
            " [7.7 2.6 6.9 2.3 'Iris-virginica']\n",
            " [6.0 2.2 5.0 1.5 'Iris-virginica']\n",
            " [6.9 3.2 5.7 2.3 'Iris-virginica']\n",
            " [5.6 2.8 4.9 2.0 'Iris-virginica']\n",
            " [7.7 2.8 6.7 2.0 'Iris-virginica']\n",
            " [6.3 2.7 4.9 1.8 'Iris-virginica']\n",
            " [6.7 3.3 5.7 2.1 'Iris-virginica']\n",
            " [7.2 3.2 6.0 1.8 'Iris-virginica']\n",
            " [6.2 2.8 4.8 1.8 'Iris-virginica']\n",
            " [6.1 3.0 4.9 1.8 'Iris-virginica']\n",
            " [6.4 2.8 5.6 2.1 'Iris-virginica']\n",
            " [7.2 3.0 5.8 1.6 'Iris-virginica']\n",
            " [7.4 2.8 6.1 1.9 'Iris-virginica']\n",
            " [7.9 3.8 6.4 2.0 'Iris-virginica']\n",
            " [6.4 2.8 5.6 2.2 'Iris-virginica']\n",
            " [6.3 2.8 5.1 1.5 'Iris-virginica']\n",
            " [6.1 2.6 5.6 1.4 'Iris-virginica']\n",
            " [7.7 3.0 6.1 2.3 'Iris-virginica']\n",
            " [6.3 3.4 5.6 2.4 'Iris-virginica']\n",
            " [6.4 3.1 5.5 1.8 'Iris-virginica']\n",
            " [6.0 3.0 4.8 1.8 'Iris-virginica']\n",
            " [6.9 3.1 5.4 2.1 'Iris-virginica']\n",
            " [6.7 3.1 5.6 2.4 'Iris-virginica']\n",
            " [6.9 3.1 5.1 2.3 'Iris-virginica']\n",
            " [5.8 2.7 5.1 1.9 'Iris-virginica']\n",
            " [6.8 3.2 5.9 2.3 'Iris-virginica']\n",
            " [6.7 3.3 5.7 2.5 'Iris-virginica']\n",
            " [6.7 3.0 5.2 2.3 'Iris-virginica']\n",
            " [6.3 2.5 5.0 1.9 'Iris-virginica']\n",
            " [6.5 3.0 5.2 2.0 'Iris-virginica']\n",
            " [6.2 3.4 5.4 2.3 'Iris-virginica']\n",
            " [5.9 3.0 5.1 1.8 'Iris-virginica']] \n",
            "\n",
            "np.shape(iris_dataset):  (150, 5) \n",
            "\n"
          ],
          "name": "stdout"
        }
      ]
    },
    {
      "cell_type": "code",
      "metadata": {
        "id": "okuUH5P3B2xe",
        "outputId": "168d34ef-d2b2-410a-a3c6-92f4429c7a18",
        "colab": {
          "base_uri": "https://localhost:8080/"
        }
      },
      "source": [
        "#Separating the features from labels in the dataset\n",
        "\n",
        "iris_dataset_features = iris_dataset[:,0:4]\n",
        "iris_dataset_labels = iris_dataset[:,4]\n",
        "print(\"np.shape(iris_dataset_features): \", np.shape(iris_dataset_features), \"\\n\")\n",
        "print(\"np.shape(iris_dataset_labels): \", np.shape(iris_dataset_labels))\n"
      ],
      "execution_count": null,
      "outputs": [
        {
          "output_type": "stream",
          "text": [
            "np.shape(iris_dataset_features):  (150, 4) \n",
            "\n",
            "np.shape(iris_dataset_labels):  (150,)\n"
          ],
          "name": "stdout"
        }
      ]
    },
    {
      "cell_type": "code",
      "metadata": {
        "id": "RYStCrnrBnvD"
      },
      "source": [
        "#Perform train-test split on the dataset\n",
        "\n",
        "from sklearn.model_selection import train_test_split\n",
        "x_train, x_test, y_train, y_test = train_test_split(iris_dataset_features, iris_dataset_labels, test_size=0.20, random_state=42)\n"
      ],
      "execution_count": null,
      "outputs": []
    },
    {
      "cell_type": "code",
      "metadata": {
        "id": "xyfgCHy7Cbks",
        "outputId": "42ea66cb-7b0c-43f5-8d31-e86e6ae8858c",
        "colab": {
          "base_uri": "https://localhost:8080/"
        }
      },
      "source": [
        "#Getting the training data characteristics\n",
        "\n",
        "print(\"x_train: \\n\", x_train, \"\\n\")\n",
        "print(\"np.shape(x_train): \", np.shape(x_train), \"\\n\")\n",
        "print(\"y_train: \\n\", y_train, \"\\n\")\n",
        "print(\"np.shape(y_train)\", np.shape(y_train), \"\\n\")\n"
      ],
      "execution_count": null,
      "outputs": [
        {
          "output_type": "stream",
          "text": [
            "x_train: \n",
            " [[4.6 3.6 1.0 0.2]\n",
            " [5.7 4.4 1.5 0.4]\n",
            " [6.7 3.1 4.4 1.4]\n",
            " [4.8 3.4 1.6 0.2]\n",
            " [4.4 3.2 1.3 0.2]\n",
            " [6.3 2.5 5.0 1.9]\n",
            " [6.4 3.2 4.5 1.5]\n",
            " [5.2 3.5 1.5 0.2]\n",
            " [5.0 3.6 1.4 0.2]\n",
            " [5.2 4.1 1.5 0.1]\n",
            " [5.8 2.7 5.1 1.9]\n",
            " [6.0 3.4 4.5 1.6]\n",
            " [6.7 3.1 4.7 1.5]\n",
            " [5.4 3.9 1.3 0.4]\n",
            " [5.4 3.7 1.5 0.2]\n",
            " [5.5 2.4 3.7 1.0]\n",
            " [6.3 2.8 5.1 1.5]\n",
            " [6.4 3.1 5.5 1.8]\n",
            " [6.6 3.0 4.4 1.4]\n",
            " [7.2 3.6 6.1 2.5]\n",
            " [5.7 2.9 4.2 1.3]\n",
            " [7.6 3.0 6.6 2.1]\n",
            " [5.6 3.0 4.5 1.5]\n",
            " [5.1 3.5 1.4 0.2]\n",
            " [7.7 2.8 6.7 2.0]\n",
            " [5.8 2.7 4.1 1.0]\n",
            " [5.2 3.4 1.4 0.2]\n",
            " [5.0 3.5 1.3 0.3]\n",
            " [5.1 3.8 1.9 0.4]\n",
            " [5.0 2.0 3.5 1.0]\n",
            " [6.3 2.7 4.9 1.8]\n",
            " [4.8 3.4 1.9 0.2]\n",
            " [5.0 3.0 1.6 0.2]\n",
            " [5.1 3.3 1.7 0.5]\n",
            " [5.6 2.7 4.2 1.3]\n",
            " [5.1 3.4 1.5 0.2]\n",
            " [5.7 3.0 4.2 1.2]\n",
            " [7.7 3.8 6.7 2.2]\n",
            " [4.6 3.2 1.4 0.2]\n",
            " [6.2 2.9 4.3 1.3]\n",
            " [5.7 2.5 5.0 2.0]\n",
            " [5.5 4.2 1.4 0.2]\n",
            " [6.0 3.0 4.8 1.8]\n",
            " [5.8 2.7 5.1 1.9]\n",
            " [6.0 2.2 4.0 1.0]\n",
            " [5.4 3.0 4.5 1.5]\n",
            " [6.2 3.4 5.4 2.3]\n",
            " [5.5 2.3 4.0 1.3]\n",
            " [5.4 3.9 1.7 0.4]\n",
            " [5.0 2.3 3.3 1.0]\n",
            " [6.4 2.7 5.3 1.9]\n",
            " [5.0 3.3 1.4 0.2]\n",
            " [5.0 3.2 1.2 0.2]\n",
            " [5.5 2.4 3.8 1.1]\n",
            " [6.7 3.0 5.0 1.7]\n",
            " [4.9 3.1 1.5 0.1]\n",
            " [5.8 2.8 5.1 2.4]\n",
            " [5.0 3.4 1.5 0.2]\n",
            " [5.0 3.5 1.6 0.6]\n",
            " [5.9 3.2 4.8 1.8]\n",
            " [5.1 2.5 3.0 1.1]\n",
            " [6.9 3.2 5.7 2.3]\n",
            " [6.0 2.7 5.1 1.6]\n",
            " [6.1 2.6 5.6 1.4]\n",
            " [7.7 3.0 6.1 2.3]\n",
            " [5.5 2.5 4.0 1.3]\n",
            " [4.4 2.9 1.4 0.2]\n",
            " [4.3 3.0 1.1 0.1]\n",
            " [6.0 2.2 5.0 1.5]\n",
            " [7.2 3.2 6.0 1.8]\n",
            " [4.6 3.1 1.5 0.2]\n",
            " [5.1 3.5 1.4 0.3]\n",
            " [4.4 3.0 1.3 0.2]\n",
            " [6.3 2.5 4.9 1.5]\n",
            " [6.3 3.4 5.6 2.4]\n",
            " [4.6 3.4 1.4 0.3]\n",
            " [6.8 3.0 5.5 2.1]\n",
            " [6.3 3.3 6.0 2.5]\n",
            " [4.7 3.2 1.3 0.2]\n",
            " [6.1 2.9 4.7 1.4]\n",
            " [6.5 2.8 4.6 1.5]\n",
            " [6.2 2.8 4.8 1.8]\n",
            " [7.0 3.2 4.7 1.4]\n",
            " [6.4 3.2 5.3 2.3]\n",
            " [5.1 3.8 1.6 0.2]\n",
            " [6.9 3.1 5.4 2.1]\n",
            " [5.9 3.0 4.2 1.5]\n",
            " [6.5 3.0 5.2 2.0]\n",
            " [5.7 2.6 3.5 1.0]\n",
            " [5.2 2.7 3.9 1.4]\n",
            " [6.1 3.0 4.6 1.4]\n",
            " [4.5 2.3 1.3 0.3]\n",
            " [6.6 2.9 4.6 1.3]\n",
            " [5.5 2.6 4.4 1.2]\n",
            " [5.3 3.7 1.5 0.2]\n",
            " [5.6 3.0 4.1 1.3]\n",
            " [7.3 2.9 6.3 1.8]\n",
            " [6.7 3.3 5.7 2.1]\n",
            " [5.1 3.7 1.5 0.4]\n",
            " [4.9 2.4 3.3 1.0]\n",
            " [6.7 3.3 5.7 2.5]\n",
            " [7.2 3.0 5.8 1.6]\n",
            " [4.9 3.1 1.5 0.1]\n",
            " [6.7 3.1 5.6 2.4]\n",
            " [4.9 3.0 1.4 0.2]\n",
            " [6.9 3.1 4.9 1.5]\n",
            " [7.4 2.8 6.1 1.9]\n",
            " [6.3 2.9 5.6 1.8]\n",
            " [5.7 2.8 4.1 1.3]\n",
            " [6.5 3.0 5.5 1.8]\n",
            " [6.3 2.3 4.4 1.3]\n",
            " [6.4 2.9 4.3 1.3]\n",
            " [5.6 2.8 4.9 2.0]\n",
            " [5.9 3.0 5.1 1.8]\n",
            " [5.4 3.4 1.7 0.2]\n",
            " [6.1 2.8 4.0 1.3]\n",
            " [4.9 2.5 4.5 1.7]\n",
            " [5.8 4.0 1.2 0.2]\n",
            " [5.8 2.6 4.0 1.2]\n",
            " [7.1 3.0 5.9 2.1]] \n",
            "\n",
            "np.shape(x_train):  (120, 4) \n",
            "\n",
            "y_train: \n",
            " ['Iris-setosa' 'Iris-setosa' 'Iris-versicolor' 'Iris-setosa' 'Iris-setosa'\n",
            " 'Iris-virginica' 'Iris-versicolor' 'Iris-setosa' 'Iris-setosa'\n",
            " 'Iris-setosa' 'Iris-virginica' 'Iris-versicolor' 'Iris-versicolor'\n",
            " 'Iris-setosa' 'Iris-setosa' 'Iris-versicolor' 'Iris-virginica'\n",
            " 'Iris-virginica' 'Iris-versicolor' 'Iris-virginica' 'Iris-versicolor'\n",
            " 'Iris-virginica' 'Iris-versicolor' 'Iris-setosa' 'Iris-virginica'\n",
            " 'Iris-versicolor' 'Iris-setosa' 'Iris-setosa' 'Iris-setosa'\n",
            " 'Iris-versicolor' 'Iris-virginica' 'Iris-setosa' 'Iris-setosa'\n",
            " 'Iris-setosa' 'Iris-versicolor' 'Iris-setosa' 'Iris-versicolor'\n",
            " 'Iris-virginica' 'Iris-setosa' 'Iris-versicolor' 'Iris-virginica'\n",
            " 'Iris-setosa' 'Iris-virginica' 'Iris-virginica' 'Iris-versicolor'\n",
            " 'Iris-versicolor' 'Iris-virginica' 'Iris-versicolor' 'Iris-setosa'\n",
            " 'Iris-versicolor' 'Iris-virginica' 'Iris-setosa' 'Iris-setosa'\n",
            " 'Iris-versicolor' 'Iris-versicolor' 'Iris-setosa' 'Iris-virginica'\n",
            " 'Iris-setosa' 'Iris-setosa' 'Iris-versicolor' 'Iris-versicolor'\n",
            " 'Iris-virginica' 'Iris-versicolor' 'Iris-virginica' 'Iris-virginica'\n",
            " 'Iris-versicolor' 'Iris-setosa' 'Iris-setosa' 'Iris-virginica'\n",
            " 'Iris-virginica' 'Iris-setosa' 'Iris-setosa' 'Iris-setosa'\n",
            " 'Iris-versicolor' 'Iris-virginica' 'Iris-setosa' 'Iris-virginica'\n",
            " 'Iris-virginica' 'Iris-setosa' 'Iris-versicolor' 'Iris-versicolor'\n",
            " 'Iris-virginica' 'Iris-versicolor' 'Iris-virginica' 'Iris-setosa'\n",
            " 'Iris-virginica' 'Iris-versicolor' 'Iris-virginica' 'Iris-versicolor'\n",
            " 'Iris-versicolor' 'Iris-versicolor' 'Iris-setosa' 'Iris-versicolor'\n",
            " 'Iris-versicolor' 'Iris-setosa' 'Iris-versicolor' 'Iris-virginica'\n",
            " 'Iris-virginica' 'Iris-setosa' 'Iris-versicolor' 'Iris-virginica'\n",
            " 'Iris-virginica' 'Iris-setosa' 'Iris-virginica' 'Iris-setosa'\n",
            " 'Iris-versicolor' 'Iris-virginica' 'Iris-virginica' 'Iris-versicolor'\n",
            " 'Iris-virginica' 'Iris-versicolor' 'Iris-versicolor' 'Iris-virginica'\n",
            " 'Iris-virginica' 'Iris-setosa' 'Iris-versicolor' 'Iris-virginica'\n",
            " 'Iris-setosa' 'Iris-versicolor' 'Iris-virginica'] \n",
            "\n",
            "np.shape(y_train) (120,) \n",
            "\n"
          ],
          "name": "stdout"
        }
      ]
    },
    {
      "cell_type": "code",
      "metadata": {
        "id": "PN5sz5MIDRHq",
        "outputId": "d5bc55a2-a0f0-4176-d171-f6fff3b585df",
        "colab": {
          "base_uri": "https://localhost:8080/"
        }
      },
      "source": [
        "#Getting the testing data characteristics\n",
        "\n",
        "print(\"x_test: \\n\", x_test, \"\\n\")\n",
        "print(\"np.shape(x_test)\", np.shape(x_test), \"\\n\")\n",
        "print(\"y_test: \\n\", y_test, \"\\n\")\n",
        "print(\"np.shape(y_test)\", np.shape(y_test), \"\\n\")\n"
      ],
      "execution_count": null,
      "outputs": [
        {
          "output_type": "stream",
          "text": [
            "x_test: \n",
            " [[6.1 2.8 4.7 1.2]\n",
            " [5.7 3.8 1.7 0.3]\n",
            " [7.7 2.6 6.9 2.3]\n",
            " [6.0 2.9 4.5 1.5]\n",
            " [6.8 2.8 4.8 1.4]\n",
            " [5.4 3.4 1.5 0.4]\n",
            " [5.6 2.9 3.6 1.3]\n",
            " [6.9 3.1 5.1 2.3]\n",
            " [6.2 2.2 4.5 1.5]\n",
            " [5.8 2.7 3.9 1.2]\n",
            " [6.5 3.2 5.1 2.0]\n",
            " [4.8 3.0 1.4 0.1]\n",
            " [5.5 3.5 1.3 0.2]\n",
            " [4.9 3.1 1.5 0.1]\n",
            " [5.1 3.8 1.5 0.3]\n",
            " [6.3 3.3 4.7 1.6]\n",
            " [6.5 3.0 5.8 2.2]\n",
            " [5.6 2.5 3.9 1.1]\n",
            " [5.7 2.8 4.5 1.3]\n",
            " [6.4 2.8 5.6 2.2]\n",
            " [4.7 3.2 1.6 0.2]\n",
            " [6.1 3.0 4.9 1.8]\n",
            " [5.0 3.4 1.6 0.4]\n",
            " [6.4 2.8 5.6 2.1]\n",
            " [7.9 3.8 6.4 2.0]\n",
            " [6.7 3.0 5.2 2.3]\n",
            " [6.7 2.5 5.8 1.8]\n",
            " [6.8 3.2 5.9 2.3]\n",
            " [4.8 3.0 1.4 0.3]\n",
            " [4.8 3.1 1.6 0.2]] \n",
            "\n",
            "np.shape(x_test) (30, 4) \n",
            "\n",
            "y_test: \n",
            " ['Iris-versicolor' 'Iris-setosa' 'Iris-virginica' 'Iris-versicolor'\n",
            " 'Iris-versicolor' 'Iris-setosa' 'Iris-versicolor' 'Iris-virginica'\n",
            " 'Iris-versicolor' 'Iris-versicolor' 'Iris-virginica' 'Iris-setosa'\n",
            " 'Iris-setosa' 'Iris-setosa' 'Iris-setosa' 'Iris-versicolor'\n",
            " 'Iris-virginica' 'Iris-versicolor' 'Iris-versicolor' 'Iris-virginica'\n",
            " 'Iris-setosa' 'Iris-virginica' 'Iris-setosa' 'Iris-virginica'\n",
            " 'Iris-virginica' 'Iris-virginica' 'Iris-virginica' 'Iris-virginica'\n",
            " 'Iris-setosa' 'Iris-setosa'] \n",
            "\n",
            "np.shape(y_test) (30,) \n",
            "\n"
          ],
          "name": "stdout"
        }
      ]
    },
    {
      "cell_type": "code",
      "metadata": {
        "id": "5pPkd_0hDUuh",
        "outputId": "dd6cf71e-41a7-4572-92e7-78526ef6caf7",
        "colab": {
          "base_uri": "https://localhost:8080/"
        }
      },
      "source": [
        "# Defining our Support Vector Machine (SVM) classifier\n",
        "\n",
        "from sklearn.svm import SVC\n",
        "svm_classifier = SVC(C=5.0, kernel = 'linear', gamma = 'scale')\n",
        "print(\"SVM Classifier: \\n\", svm_classifier,\"\\n\")\n"
      ],
      "execution_count": null,
      "outputs": [
        {
          "output_type": "stream",
          "text": [
            "SVM Classifier: \n",
            " SVC(C=5.0, break_ties=False, cache_size=200, class_weight=None, coef0=0.0,\n",
            "    decision_function_shape='ovr', degree=3, gamma='scale', kernel='linear',\n",
            "    max_iter=-1, probability=False, random_state=None, shrinking=True,\n",
            "    tol=0.001, verbose=False) \n",
            "\n"
          ],
          "name": "stdout"
        }
      ]
    },
    {
      "cell_type": "code",
      "metadata": {
        "id": "MItKVVuzDiUg",
        "outputId": "770ce512-2a04-4070-a991-9621a63f83ec",
        "colab": {
          "base_uri": "https://localhost:8080/"
        }
      },
      "source": [
        "#Training our classifier\n",
        "\n",
        "svm_classifier.fit(x_train, y_train)\n",
        "\n",
        "#Getting the classifier arguments\n",
        "\n",
        "print(\"Printing the support vectors \\n\\n\", svm_classifier.support_vectors_, \"\\n\")\n",
        "print(\"Number of support vectors: \", np.shape(svm_classifier.support_vectors_)[0], \"\\n\")\n",
        "\n",
        "print(\"Number of support vectors for each class: \", svm_classifier.n_support_)\n",
        "print(\"Intercept values: \", svm_classifier.intercept_)\n"
      ],
      "execution_count": null,
      "outputs": [
        {
          "output_type": "stream",
          "text": [
            "Printing the support vectors \n",
            "\n",
            " [[4.8 3.4 1.9 0.2]\n",
            " [5.1 3.3 1.7 0.5]\n",
            " [4.5 2.3 1.3 0.3]\n",
            " [5.6 3.  4.5 1.5]\n",
            " [5.4 3.  4.5 1.5]\n",
            " [6.7 3.  5.  1.7]\n",
            " [5.9 3.2 4.8 1.8]\n",
            " [5.1 2.5 3.  1.1]\n",
            " [6.  2.7 5.1 1.6]\n",
            " [6.3 2.5 4.9 1.5]\n",
            " [6.3 2.3 4.4 1.3]\n",
            " [6.3 2.8 5.1 1.5]\n",
            " [6.3 2.7 4.9 1.8]\n",
            " [6.  3.  4.8 1.8]\n",
            " [6.2 2.8 4.8 1.8]\n",
            " [7.2 3.  5.8 1.6]\n",
            " [5.9 3.  5.1 1.8]\n",
            " [4.9 2.5 4.5 1.7]] \n",
            "\n",
            "Number of support vectors:  18 \n",
            "\n",
            "Number of support vectors for each class:  [3 8 7]\n",
            "Intercept values:  [1.45338269 1.50537328 5.9640843 ]\n"
          ],
          "name": "stdout"
        }
      ]
    },
    {
      "cell_type": "code",
      "metadata": {
        "id": "bF_Ly3jiDnhV",
        "outputId": "a6f3fd10-83d2-4fcc-b888-831124793861",
        "colab": {
          "base_uri": "https://localhost:8080/"
        }
      },
      "source": [
        "#Making predictions using the SVM model\n",
        "\n",
        "svm_predictions = svm_classifier.predict(x_test)\n",
        "print(\"Predictions: \\n\", svm_predictions)\n"
      ],
      "execution_count": null,
      "outputs": [
        {
          "output_type": "stream",
          "text": [
            "Predictions: \n",
            " ['Iris-versicolor' 'Iris-setosa' 'Iris-virginica' 'Iris-versicolor'\n",
            " 'Iris-versicolor' 'Iris-setosa' 'Iris-versicolor' 'Iris-virginica'\n",
            " 'Iris-virginica' 'Iris-versicolor' 'Iris-virginica' 'Iris-setosa'\n",
            " 'Iris-setosa' 'Iris-setosa' 'Iris-setosa' 'Iris-versicolor'\n",
            " 'Iris-virginica' 'Iris-versicolor' 'Iris-versicolor' 'Iris-virginica'\n",
            " 'Iris-setosa' 'Iris-virginica' 'Iris-setosa' 'Iris-virginica'\n",
            " 'Iris-virginica' 'Iris-virginica' 'Iris-virginica' 'Iris-virginica'\n",
            " 'Iris-setosa' 'Iris-setosa']\n"
          ],
          "name": "stdout"
        }
      ]
    },
    {
      "cell_type": "code",
      "metadata": {
        "id": "o_q9Z8d1DuLw",
        "outputId": "ac5e8581-7b4d-4f53-e88c-b4c3797b8f05",
        "colab": {
          "base_uri": "https://localhost:8080/"
        }
      },
      "source": [
        "#Comparing the predictions with the ground truth\n",
        "\n",
        "print(\"Predictions \\t Ground Truth: \\n\\n\", np.column_stack((svm_predictions, y_test)))\n"
      ],
      "execution_count": null,
      "outputs": [
        {
          "output_type": "stream",
          "text": [
            "Predictions \t Ground Truth: \n",
            "\n",
            " [['Iris-versicolor' 'Iris-versicolor']\n",
            " ['Iris-setosa' 'Iris-setosa']\n",
            " ['Iris-virginica' 'Iris-virginica']\n",
            " ['Iris-versicolor' 'Iris-versicolor']\n",
            " ['Iris-versicolor' 'Iris-versicolor']\n",
            " ['Iris-setosa' 'Iris-setosa']\n",
            " ['Iris-versicolor' 'Iris-versicolor']\n",
            " ['Iris-virginica' 'Iris-virginica']\n",
            " ['Iris-virginica' 'Iris-versicolor']\n",
            " ['Iris-versicolor' 'Iris-versicolor']\n",
            " ['Iris-virginica' 'Iris-virginica']\n",
            " ['Iris-setosa' 'Iris-setosa']\n",
            " ['Iris-setosa' 'Iris-setosa']\n",
            " ['Iris-setosa' 'Iris-setosa']\n",
            " ['Iris-setosa' 'Iris-setosa']\n",
            " ['Iris-versicolor' 'Iris-versicolor']\n",
            " ['Iris-virginica' 'Iris-virginica']\n",
            " ['Iris-versicolor' 'Iris-versicolor']\n",
            " ['Iris-versicolor' 'Iris-versicolor']\n",
            " ['Iris-virginica' 'Iris-virginica']\n",
            " ['Iris-setosa' 'Iris-setosa']\n",
            " ['Iris-virginica' 'Iris-virginica']\n",
            " ['Iris-setosa' 'Iris-setosa']\n",
            " ['Iris-virginica' 'Iris-virginica']\n",
            " ['Iris-virginica' 'Iris-virginica']\n",
            " ['Iris-virginica' 'Iris-virginica']\n",
            " ['Iris-virginica' 'Iris-virginica']\n",
            " ['Iris-virginica' 'Iris-virginica']\n",
            " ['Iris-setosa' 'Iris-setosa']\n",
            " ['Iris-setosa' 'Iris-setosa']]\n"
          ],
          "name": "stdout"
        }
      ]
    },
    {
      "cell_type": "code",
      "metadata": {
        "id": "mF9Ego7JDxqX",
        "outputId": "23757589-81b5-4455-b9e3-da5e4c74480e",
        "colab": {
          "base_uri": "https://localhost:8080/"
        }
      },
      "source": [
        "#Quantifying the performance of the model on the test data\n",
        "\n",
        "accuracy = svm_classifier.score(x_test, y_test)\n",
        "print(\"Classifier Accuracy:: \", accuracy, \"\\n\")\n"
      ],
      "execution_count": null,
      "outputs": [
        {
          "output_type": "stream",
          "text": [
            "Classifier Accuracy::  0.9666666666666667 \n",
            "\n"
          ],
          "name": "stdout"
        }
      ]
    },
    {
      "cell_type": "code",
      "metadata": {
        "id": "FO-ezb1ID1de",
        "outputId": "dbbb7f6d-69f1-4d36-dc0d-b5b2270c10fc",
        "colab": {
          "base_uri": "https://localhost:8080/"
        }
      },
      "source": [
        "#Getting the confusion matrix for the predictions\n",
        "\n",
        "from sklearn.metrics import confusion_matrix \n",
        "cm = confusion_matrix(y_test, svm_predictions)\n",
        "print(\"Confusion Matrix: \\n\\n\", cm, \"\\n\")"
      ],
      "execution_count": null,
      "outputs": [
        {
          "output_type": "stream",
          "text": [
            "Confusion Matrix: \n",
            "\n",
            " [[10  0  0]\n",
            " [ 0  8  1]\n",
            " [ 0  0 11]] \n",
            "\n"
          ],
          "name": "stdout"
        }
      ]
    }
  ]
}